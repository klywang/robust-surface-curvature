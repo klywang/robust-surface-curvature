{
 "cells": [
  {
   "cell_type": "code",
   "execution_count": 1,
   "id": "079767c2",
   "metadata": {},
   "outputs": [],
   "source": [
    "import sys\n",
    "import os\n",
    "from pathlib import Path\n",
    "\n",
    "import signac\n",
    "\n",
    "import numpy as np\n",
    "import panda as pd\n",
    "\n",
    "import matplotlib.pyplot as plt\n",
    "%matplotlib inline"
   ]
  },
  {
   "cell_type": "markdown",
   "id": "7ce48492",
   "metadata": {},
   "source": [
    "Add scripts path to notebook"
   ]
  },
  {
   "cell_type": "code",
   "execution_count": 2,
   "id": "8089acca",
   "metadata": {},
   "outputs": [
    {
     "name": "stdout",
     "output_type": "stream",
     "text": [
      "/Users/kelwang/Documents/projects/robust-surface-curvature\n"
     ]
    }
   ],
   "source": [
    "scripts_path = '/'.join(str(Path().absolute()).split('/')[:-1])\n",
    "sys.path.append(scripts_path)\n",
    "print(scripts_path)\n",
    "\n",
    "from utils.Hypersphere import fit_hypersphere"
   ]
  },
  {
   "cell_type": "code",
   "execution_count": 3,
   "id": "d3467714",
   "metadata": {},
   "outputs": [],
   "source": [
    "pr = signac.get_project(\n",
    "    '/Volumes/glotzer/proteins_ebt'\n",
    ") "
   ]
  },
  {
   "cell_type": "code",
   "execution_count": 9,
   "id": "b7d95028",
   "metadata": {},
   "outputs": [],
   "source": [
    "# for job in pr.find_jobs({\"decoy\": {\"$regex\": \"2goo\"}, \"num_chains_tot\": 2}):\n",
    "#     print(job)\n",
    "job = pr.open_job(id=\"733f45a1c01aaeed57b8616b9f3f1a40\")"
   ]
  },
  {
   "cell_type": "code",
   "execution_count": 10,
   "id": "bad61696",
   "metadata": {},
   "outputs": [],
   "source": [
    "def unit_vector(x):\n",
    "    return x/np.linalg.norm(x)\n",
    "\n",
    "def unit_normal(v1, v2, v3):\n",
    "    v1, v2, v3 = np.array(v1), np.array(v2), np.array(v3)\n",
    "    v31 = v3 - v1\n",
    "    v21 = v2 - v1\n",
    "    cross = np.cross(v31/np.linalg.norm(v31), v21/np.linalg.norm(v21))\n",
    "    return cross/ np.linalg.norm(cross)"
   ]
  },
  {
   "cell_type": "code",
   "execution_count": null,
   "id": "2bf8f8df",
   "metadata": {},
   "outputs": [],
   "source": []
  }
 ],
 "metadata": {
  "kernelspec": {
   "display_name": "Python 3 (ipykernel)",
   "language": "python",
   "name": "python3"
  },
  "language_info": {
   "codemirror_mode": {
    "name": "ipython",
    "version": 3
   },
   "file_extension": ".py",
   "mimetype": "text/x-python",
   "name": "python",
   "nbconvert_exporter": "python",
   "pygments_lexer": "ipython3",
   "version": "3.11.0"
  }
 },
 "nbformat": 4,
 "nbformat_minor": 5
}
